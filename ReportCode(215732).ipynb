{
  "nbformat": 4,
  "nbformat_minor": 0,
  "metadata": {
    "colab": {
      "name": "ReportCode(215732).ipynb",
      "provenance": [],
      "collapsed_sections": []
    },
    "kernelspec": {
      "name": "python3",
      "display_name": "Python 3"
    }
  },
  "cells": [
    {
      "cell_type": "markdown",
      "metadata": {
        "id": "XXT-c1xbS2BM"
      },
      "source": [
        "Report Code"
      ]
    },
    {
      "cell_type": "code",
      "metadata": {
        "colab": {
          "base_uri": "https://localhost:8080/"
        },
        "id": "Tj0na9fhS0nm",
        "outputId": "81bdfbcb-af1c-4f1c-b0c9-b13dbaaa0a91"
      },
      "source": [
        "import matplotlib.pyplot as plt \n",
        "import numpy as np\n",
        "import torch\n",
        "print(\"Packages successfully imported!\")"
      ],
      "execution_count": null,
      "outputs": [
        {
          "output_type": "stream",
          "text": [
            "Packages successfully imported!\n"
          ],
          "name": "stdout"
        }
      ]
    },
    {
      "cell_type": "markdown",
      "metadata": {
        "id": "yO7gsKmWTMBE"
      },
      "source": [
        "First implementation: AND gate\n"
      ]
    },
    {
      "cell_type": "code",
      "metadata": {
        "colab": {
          "base_uri": "https://localhost:8080/"
        },
        "id": "2riC8E18TAgI",
        "outputId": "220c6a19-3b38-4bd1-c91d-77b058d93d43"
      },
      "source": [
        "# Define our data for AND problem\n",
        "input_data = torch.tensor([[0., 0.], [0., 1.], [1., 0.], [1., 1.]])\n",
        "output_data = torch.tensor([[0.], [0.], [0.], [1.]])\n",
        "print(f\"We have {input_data.size(0)} examples\")\n",
        "print(f\"Input is size {input_data.size(1)} and output is size {output_data.size(1)}\")\n",
        "\n",
        "# Define our weights and biases (todo)\n",
        "W = torch.tensor([[1.], [1.]])\n",
        "b = torch.tensor([[-1.1]])\n",
        "assert list(W.size()) == [2, 1], f\"Weights are incorrect size ({W.size()})\"\n",
        "assert list(b.size()) == [1, 1], f\"Biases are incorrect size ({b.size()})\"\n",
        "\n",
        "# Activation function\n",
        "def f(inp):\n",
        "    inp[inp >= 0] = 1\n",
        "    inp[inp < 0] = 0\n",
        "    return inp\n",
        "\n",
        "# Loop over each example\n",
        "for i in range(input_data.size(0)):\n",
        "    # Get example `i` (and unsqueeze to [1, 2] and [1, 1])\n",
        "    x = input_data[i].unsqueeze(0)\n",
        "    y = output_data[i].unsqueeze(0)\n",
        "\n",
        "    # Predict output \n",
        "    y_hat = f(torch.mm(x, W) + b)\n",
        "    #f(torch.mm(torch.tensor([[1.],[1.]]),torch.tensor([[1.,1.]]))-1)\n",
        "\n",
        "    # Check predictions are correct\n",
        "    print(f\"Prediction {y_hat}, desired output {y}\")\n",
        "    assert (y == y_hat), f\"{y_hat} does not equal {y}\"\n",
        "\n",
        "print(\"Well done, your weights and biases are correct!\")"
      ],
      "execution_count": null,
      "outputs": [
        {
          "output_type": "stream",
          "text": [
            "We have 4 examples\n",
            "Input is size 2 and output is size 1\n",
            "Prediction tensor([[0.]]), desired output tensor([[0.]])\n",
            "Prediction tensor([[0.]]), desired output tensor([[0.]])\n",
            "Prediction tensor([[0.]]), desired output tensor([[0.]])\n",
            "Prediction tensor([[1.]]), desired output tensor([[1.]])\n",
            "Well done, your weights and biases are correct!\n"
          ],
          "name": "stdout"
        }
      ]
    },
    {
      "cell_type": "markdown",
      "metadata": {
        "id": "DJe2wjzMTTd9"
      },
      "source": [
        "Second Implementation OR Gate "
      ]
    },
    {
      "cell_type": "code",
      "metadata": {
        "colab": {
          "base_uri": "https://localhost:8080/"
        },
        "id": "faqBZ109TA4G",
        "outputId": "3b1af038-272f-437b-9c96-b7542e677646"
      },
      "source": [
        "# Define our data for OR problem\n",
        "input_data = torch.tensor([[0., 0.], [0., 1.], [1., 0.], [1., 1.]])\n",
        "output_data = torch.tensor([[0.], [1.], [1.], [1.]])\n",
        "\n",
        "# Define our weights and biases (todo)\n",
        "W = torch.tensor([[1.], [1.]])\n",
        "b = torch.tensor([[-1]])\n",
        "assert list(W.size()) == [2, 1], f\"Weights are incorrect size ({W.size()})\"\n",
        "assert list(b.size()) == [1, 1], f\"Biases are incorrect size ({b.size()})\"\n",
        "\n",
        "# Activation function\n",
        "def f(inp):\n",
        "    inp[inp >= 0] = 1\n",
        "    inp[inp < 0] = 0 \n",
        "    return inp\n",
        "\n",
        "# Loop over each example\n",
        "for i in range(input_data.size(0)):\n",
        "    # Get example `i` (and unsqueeze to [1, 2] and [1, 1])\n",
        "    x = input_data[i].unsqueeze(0)\n",
        "    y = output_data[i].unsqueeze(0)\n",
        "\n",
        "    # Predict output \n",
        "    y_hat = f(torch.mm(x, W) + b)\n",
        "\n",
        "    # Check predictions are correct\n",
        "    print(f\"Prediction {y_hat}, desired output {y}\")\n",
        "    assert (y == y_hat), f\"{y_hat} does not equal {y}\"\n",
        "\n",
        "print(\"Well done, your weights and biases are correct!\")"
      ],
      "execution_count": null,
      "outputs": [
        {
          "output_type": "stream",
          "text": [
            "Prediction tensor([[0.]]), desired output tensor([[0.]])\n",
            "Prediction tensor([[1.]]), desired output tensor([[1.]])\n",
            "Prediction tensor([[1.]]), desired output tensor([[1.]])\n",
            "Prediction tensor([[1.]]), desired output tensor([[1.]])\n",
            "Well done, your weights and biases are correct!\n"
          ],
          "name": "stdout"
        }
      ]
    },
    {
      "cell_type": "markdown",
      "metadata": {
        "id": "gDhSw1d1Tc2R"
      },
      "source": [
        "Third implementation: XOR Gate"
      ]
    },
    {
      "cell_type": "code",
      "metadata": {
        "colab": {
          "base_uri": "https://localhost:8080/"
        },
        "id": "WiYKx8sPTBHT",
        "outputId": "672b6220-d9c4-4251-c209-34ffea3ea461"
      },
      "source": [
        "# Provides extra neural network functions\n",
        "import torch.nn as nn\n",
        "# Provides optimizers\n",
        "import torch.optim as optim\n",
        "\n",
        "# number of epochs\n",
        "num_epochs = 1000\n",
        "\n",
        "# Define our data for XOR problem\n",
        "input_data = torch.tensor([[0., 0.], [0., 1.], [1., 0.], [1., 1.]])\n",
        "output_data = torch.tensor([[0.], [1.], [1.], [0.]])\n",
        "\n",
        "# Define weights & biases for first layer (todo)\n",
        "W_1 = nn.Parameter(torch.rand(2, 3))# Inputs 2 outputs 3\n",
        "b_1 = nn.Parameter(torch.rand(1, 3))#Bias needs 3 outputs\n",
        "# Define weights & biases for second layer (todo)\n",
        "W_2 = nn.Parameter(torch.rand(3, 2)) #second layer takes 3 inputs and 1 output\n",
        "b_2 = nn.Parameter(torch.rand(1, 1)) #bias 1 input and 1 output\n",
        "# Define weights & biases for third layer (todo)\n",
        "W_3 = nn.Parameter(torch.rand(2, 3)) #second layer takes 3 inputs and 1 output\n",
        "b_3 = nn.Parameter(torch.rand(3, 1)) #bias 1 input and 1 output\n",
        "\n",
        "# Setup our loss function\n",
        "loss_fn = nn.MSELoss()\n",
        "\n",
        "# Setup our optimizer\n",
        "optimizer = optim.SGD([W_1, W_2,W_3, b_1, b_2, b_3], lr=0.01)\n",
        "\n",
        "# Define our predict function (todo)\n",
        "def predict(x, W_1, W_2,W_3, b_1, b_2, b_3):\n",
        "        h = torch.sigmoid(torch.mm(x, W_1) + b_1)\n",
        "       # print(h.shape)\n",
        "        h_2 = torch.sigmoid(torch.mm(h, W_2) + b_2)\n",
        "       # print(h_2.shape)\n",
        "        y_hat = torch.sigmoid(torch.mm(h_2, W_3) + b_3)\n",
        "       # print(y_hat.shape)\n",
        "        return y_hat\n",
        "\n",
        "# Training loop\n",
        "for epoch in range(num_epochs):\n",
        "    for i in range(input_data.size(0)):\n",
        "        # Get example `i` (and unsqueeze to [1, 2] and [1, 1])\n",
        "        x = input_data[i].unsqueeze(0)\n",
        "        y = output_data[i].unsqueeze(0)\n",
        "\n",
        "        # Clear gradients (todo)\n",
        "        optimizer.zero_grad()\n",
        "        # Predict outputs (todo)\n",
        "        y_hat = predict(x, W_1, W_2, W_3, b_1, b_2, b_3)\n",
        "        # Calculate loss (todo)\n",
        "        loss = loss_fn(y_hat, y)\n",
        "        # Calculate gradients (todo)\n",
        "        loss.backward()\n",
        "        # Update weights (todo)\n",
        "        optimizer.step()\n",
        "\n",
        "    # Test our network\n",
        "    if epoch % 1000 == 0:\n",
        "        print(f\"Testing network @ epoch {epoch}\")\n",
        "        for i in range(input_data.size(0)):\n",
        "            # Make a prediction\n",
        "            x = input_data[i].unsqueeze(0)\n",
        "            y = output_data[i].unsqueeze(0)\n",
        "            y_hat = predict(x,W_1, W_2, W_3, b_1, b_2, b_3)\n",
        "            # Print result\n",
        "            print(\"Input:{} Target: {} Predicted:[{}] Error:[{}]\".format(\n",
        "                x.data.numpy(),\n",
        "                y.data.numpy(),\n",
        "                np.round(y_hat.data.numpy(), 4),\n",
        "                np.round(y.data.numpy() - y_hat.data.numpy(), 4)\n",
        "            ))"
      ],
      "execution_count": 22,
      "outputs": [
        {
          "output_type": "stream",
          "text": [
            "/usr/local/lib/python3.7/dist-packages/torch/nn/modules/loss.py:446: UserWarning: Using a target size (torch.Size([1, 1])) that is different to the input size (torch.Size([3, 3])). This will likely lead to incorrect results due to broadcasting. Please ensure they have the same size.\n",
            "  return F.mse_loss(input, target, reduction=self.reduction)\n"
          ],
          "name": "stderr"
        },
        {
          "output_type": "stream",
          "text": [
            "Testing network @ epoch 0\n",
            "Input:[[0. 0.]] Target: [[0.]] Predicted:[[[0.827  0.9021 0.8103]\n",
            " [0.7266 0.8366 0.7037]\n",
            " [0.7367 0.8435 0.7143]]] Error:[[[-0.827  -0.9021 -0.8103]\n",
            " [-0.7266 -0.8366 -0.7037]\n",
            " [-0.7367 -0.8435 -0.7143]]]\n",
            "Input:[[0. 1.]] Target: [[1.]] Predicted:[[[0.8281 0.9033 0.8115]\n",
            " [0.7282 0.8386 0.7053]\n",
            " [0.7382 0.8454 0.7159]]] Error:[[[0.1719 0.0967 0.1885]\n",
            " [0.2718 0.1614 0.2947]\n",
            " [0.2618 0.1546 0.2841]]]\n",
            "Input:[[1. 0.]] Target: [[1.]] Predicted:[[[0.8293 0.9046 0.8124]\n",
            " [0.7299 0.8405 0.7066]\n",
            " [0.7399 0.8473 0.7171]]] Error:[[[0.1707 0.0954 0.1876]\n",
            " [0.2701 0.1595 0.2934]\n",
            " [0.2601 0.1527 0.2829]]]\n",
            "Input:[[1. 1.]] Target: [[0.]] Predicted:[[[0.8301 0.9054 0.8132]\n",
            " [0.7308 0.8418 0.7076]\n",
            " [0.7408 0.8485 0.7182]]] Error:[[[-0.8301 -0.9054 -0.8132]\n",
            " [-0.7308 -0.8418 -0.7076]\n",
            " [-0.7408 -0.8485 -0.7182]]]\n"
          ],
          "name": "stdout"
        }
      ]
    },
    {
      "cell_type": "code",
      "metadata": {
        "colab": {
          "base_uri": "https://localhost:8080/"
        },
        "id": "n4jpyG0E83nx",
        "outputId": "c0a6eba3-f188-44b4-96aa-94cbb8fad650"
      },
      "source": [
        "# Provides extra neural network functions\n",
        "import torch.nn as nn\n",
        "# Provides optimizers\n",
        "import torch.optim as optim\n",
        "\n",
        "# number of epochs\n",
        "num_epochs = 1000\n",
        "\n",
        "# Define our data for XOR problem\n",
        "input_data = torch.tensor([[0., 0.], [0., 1.], [1., 0.], [1., 1.]])\n",
        "output_data = torch.tensor([[0.], [1.], [1.], [0.]])\n",
        "\n",
        "# Define weights & biases for first layer (todo)\n",
        "W_1 = nn.Parameter(torch.rand(2, 3))# Inputs 2 outputs 3\n",
        "b_1 = nn.Parameter(torch.rand(1, 3))#Bias needs 3 outputs\n",
        "# Define weights & biases for second layer (todo)\n",
        "W_2 = nn.Parameter(torch.rand(3, 1)) #second layer takes 3 inputs and 1 output\n",
        "b_2 = nn.Parameter(torch.rand(1, 1)) #bias 1 input and 1 output\n",
        "# Define weights & biases for third layer (todo)\n",
        "#W_3 = nn.Parameter(torch.rand(2, 3)) #second layer takes 3 inputs and 1 output\n",
        "#b_3 = nn.Parameter(torch.rand(3, 1)) #bias 1 input and 1 output\n",
        "\n",
        "# Setup our loss function\n",
        "loss_fn = nn.MSELoss()\n",
        "\n",
        "# Setup our optimizer\n",
        "optimizer = optim.SGD([W_1, W_2, b_1, b_2], lr=0.01)\n",
        "\n",
        "# Define our predict function (todo)\n",
        "def predict(x, W_1, W_2,b_1, b_2):\n",
        "        h = torch.sigmoid(torch.mm(x, W_1) + b_1)\n",
        "       # print(h.shape)\n",
        "        y_hat = torch.sigmoid(torch.mm(h, W_2) + b_2)\n",
        "       # print(h_2.shape)\n",
        "        #y_hat = torch.sigmoid(torch.mm(h_2, W_3) + b_3)\n",
        "       # print(y_hat.shape)\n",
        "        return y_hat\n",
        "\n",
        "# Training loop\n",
        "for epoch in range(num_epochs):\n",
        "    for i in range(input_data.size(0)):\n",
        "        # Get example `i` (and unsqueeze to [1, 2] and [1, 1])\n",
        "        x = input_data[i].unsqueeze(0)\n",
        "        y = output_data[i].unsqueeze(0)\n",
        "\n",
        "        # Clear gradients (todo)\n",
        "        optimizer.zero_grad()\n",
        "        # Predict outputs (todo)\n",
        "        y_hat = predict(x, W_1, W_2, b_1, b_2)\n",
        "        # Calculate loss (todo)\n",
        "        loss = loss_fn(y_hat, y)\n",
        "        # Calculate gradients (todo)\n",
        "        loss.backward()\n",
        "        # Update weights (todo)\n",
        "        optimizer.step()\n",
        "\n",
        "    # Test our network\n",
        "    if epoch % 1000 == 0:\n",
        "        print(f\"Testing network @ epoch {epoch}\")\n",
        "        for i in range(input_data.size(0)):\n",
        "            # Make a prediction\n",
        "            x = input_data[i].unsqueeze(0)\n",
        "            y = output_data[i].unsqueeze(0)\n",
        "            y_hat = predict(x,W_1, W_2, b_1, b_2,)\n",
        "            # Print result\n",
        "            print(\"Input:{} Target: {} Predicted:[{}] Error:[{}]\".format(\n",
        "                x.data.numpy(),\n",
        "                y.data.numpy(),\n",
        "                np.round(y_hat.data.numpy(), 4),\n",
        "                np.round(y.data.numpy() - y_hat.data.numpy(), 4)\n",
        "            ))"
      ],
      "execution_count": 27,
      "outputs": [
        {
          "output_type": "stream",
          "text": [
            "Testing network @ epoch 0\n",
            "Input:[[0. 0.]] Target: [[0.]] Predicted:[[[0.8054]]] Error:[[[-0.8054]]]\n",
            "Input:[[0. 1.]] Target: [[1.]] Predicted:[[[0.8179]]] Error:[[[0.1821]]]\n",
            "Input:[[1. 0.]] Target: [[1.]] Predicted:[[[0.823]]] Error:[[[0.177]]]\n",
            "Input:[[1. 1.]] Target: [[0.]] Predicted:[[[0.8321]]] Error:[[[-0.8321]]]\n"
          ],
          "name": "stdout"
        }
      ]
    },
    {
      "cell_type": "markdown",
      "metadata": {
        "id": "1GJ4wJtcro9G"
      },
      "source": [
        "Fourth Implementation: Recurrent Neural Network (Sequence learning - backpropagation)"
      ]
    },
    {
      "cell_type": "code",
      "metadata": {
        "colab": {
          "base_uri": "https://localhost:8080/",
          "height": 279
        },
        "id": "VvdEdtGP4OYD",
        "outputId": "a709d8b4-069b-4eb0-ea62-a506e56c2259"
      },
      "source": [
        "num_iterations = 10\n",
        "num_nodes = 3\n",
        "\n",
        "weights = torch.randn(num_nodes, num_nodes) * 0.4\n",
        "\n",
        "# activations over time\n",
        "x = torch.zeros(num_nodes, num_iterations)\n",
        "# init conditions\n",
        "x[0, 0] = -1\n",
        "x[1, 0] = 1\n",
        "\n",
        "# setup random input\n",
        "conf = torch.tensor(np.random.choice([0, 1.0], size=(num_nodes)))\n",
        "pulse_time = 10\n",
        "pulse_dur = 10\n",
        "mag = 3.0\n",
        "impulse = 0\n",
        "\n",
        "for t in range(1, num_iterations):\n",
        "    # update activations\n",
        "    x[:, t] = torch.tanh(weights @ x[:, t-1] + impulse)\n",
        "\n",
        "    # set input\n",
        "    if t > pulse_time and t < (pulse_time + pulse_dur):\n",
        "        impulse = mag * conf\n",
        "    else:\n",
        "        impulse = 0\n",
        "\n",
        "# plot\n",
        "_, ax = plt.subplots(1, 1)\n",
        "for n in range(num_nodes):\n",
        "    ax.plot(range(num_iterations), x[n, :])\n",
        "    ax.set_xlabel(\"Number of Iterations\")\n",
        "    ax.set_ylabel(\"y\")\n",
        "\n",
        "plt.savefig('plot1.png', format =\"png\", dpi=300, bbox_inches='tight')\n",
        "plt.show()  \n"
      ],
      "execution_count": 67,
      "outputs": [
        {
          "output_type": "display_data",
          "data": {
            "image/png": "[encoded data removed]",
            "text/plain": [
              "<Figure size 432x288 with 1 Axes>"
            ]
          },
          "metadata": {
            "tags": [],
            "needs_background": "light"
          }
        }
      ]
    },
    {
      "cell_type": "code",
      "metadata": {
        "id": "wj5G-l1ll9I8",
        "colab": {
          "base_uri": "https://localhost:8080/",
          "height": 265
        },
        "outputId": "7ff5329e-eb40-4135-9209-a2cfe9bc7d93"
      },
      "source": [
        "# Provides extra neural network functions\n",
        "import torch.nn as nn\n",
        "# Provides optimizers\n",
        "import torch.optim as optim\n",
        "\n",
        "# define constants\n",
        "epochs = 300\n",
        "hidden_size = 3\n",
        "input_size = 1\n",
        "output_size = 1\n",
        "seq_len = 20\n",
        "\n",
        "# Define our sin wave data\n",
        "data_time_steps = np.linspace(2, 10, seq_len + 1)\n",
        "data = np.sin(data_time_steps)\n",
        "\n",
        "# define our sequence\n",
        "x_data = torch.tensor(data[:-1]).float()\n",
        "y_data = torch.tensor(data[1:]).float()\n",
        "\n",
        "# Define our weights (todo)\n",
        "W_1 = nn.Parameter(torch.rand(hidden_size + input_size, hidden_size)).float()\n",
        "W_2 = nn.Parameter(torch.rand(hidden_size, output_size)).float()\n",
        "\n",
        "# Setup our loss function\n",
        "loss_fn = nn.MSELoss()\n",
        "\n",
        "# Setup our optimizer\n",
        "optimizer = optim.SGD([W_1, W_2], lr=0.01)\n",
        "\n",
        "# Define our predict function (todo)\n",
        "def predict(x, hidden, W_1, W_2):\n",
        "    x_and_hidden = torch.cat((x, hidden), 1)\n",
        "    hidden = torch.tanh(torch.mm(x_and_hidden, W_1))\n",
        "    out = torch.mm(hidden, W_2)\n",
        "    return out, hidden\n",
        "\n",
        "# Training loop\n",
        "for epoch in range(1000):\n",
        "    optimizer.zero_grad()\n",
        "    # init hidden state\n",
        "    hidden = torch.zeros((1, hidden_size))\n",
        "    loss = 0\n",
        "    for t in range(x_data.size(0)):\n",
        "        x_t = x_data[t].view(1, 1)\n",
        "        y_t = y_data[t].view(1, 1)\n",
        "        # predict next hidden and state\n",
        "        (y_t_hat, hidden) = predict(x_t, hidden, W_1, W_2)\n",
        "        # accumulate loss\n",
        "        loss = loss + loss_fn(y_t_hat, y_t)\n",
        "    loss.backward()\n",
        "    optimizer.step()  \n",
        "\n",
        "# Test network\n",
        "hidden = torch.zeros((1, hidden_size))\n",
        "predictions = []\n",
        "\n",
        "for t in range(x_data.size(0)):\n",
        "    x_t = x_data[t].view(-1, 1)\n",
        "    (y_t_hat, hidden) = predict(x_t, hidden, W_1, W_2)\n",
        "    predictions.append(y_t_hat.data.numpy().ravel()[0])\n",
        "\n",
        "\n",
        "plt.scatter(data_time_steps[:-1], x_data.data.numpy(), s=90, label=\"Actual\")\n",
        "plt.scatter(data_time_steps[1:], predictions, label=\"Predicted\")\n",
        "plt.legend()\n",
        "\n",
        "plt.show()  \n",
        "        "
      ],
      "execution_count": 66,
      "outputs": [
        {
          "output_type": "display_data",
          "data": {
            "image/png": "[encoded data removed]",
            "text/plain": [
              "<Figure size 432x288 with 1 Axes>"
            ]
          },
          "metadata": {
            "tags": [],
            "needs_background": "light"
          }
        }
      ]
    }
  ]
}