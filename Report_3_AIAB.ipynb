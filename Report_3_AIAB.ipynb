{
  "nbformat": 4,
  "nbformat_minor": 0,
  "metadata": {
    "colab": {
      "name": "Report_3_AIAB.ipynb",
      "provenance": [],
      "collapsed_sections": [],
      "machine_shape": "hm"
    },
    "kernelspec": {
      "name": "python3",
      "display_name": "Python 3"
    },
    "language_info": {
      "name": "python"
    }
  },
  "cells": [
    {
      "cell_type": "markdown",
      "metadata": {
        "id": "gxtn5L3bVQG3"
      },
      "source": [
        "### Report 3 - AIAB - OPEN AI and Genetic Algorithms"
      ]
    },
    {
      "cell_type": "markdown",
      "metadata": {
        "id": "dxWCS4uUtUnc"
      },
      "source": [
        "#### Installs and Imports"
      ]
    },
    {
      "cell_type": "code",
      "metadata": {
        "id": "YcpQr-VVVK02",
        "colab": {
          "base_uri": "https://localhost:8080/"
        },
        "outputId": "5a656311-0cf5-47fd-c45f-f5b0efe6c797"
      },
      "source": [
        "!apt-get install -y xvfb python-opengl > /dev/null 2>&1\n",
        "!pip install gym pyvirtualdisplay > /dev/null 2>&1\n",
        "!apt-get update\n",
        "!apt install xvfb"
      ],
      "execution_count": null,
      "outputs": [
        {
          "output_type": "stream",
          "text": [
            "Hit:1 http://security.ubuntu.com/ubuntu bionic-security InRelease\n",
            "Hit:2 https://cloud.r-project.org/bin/linux/ubuntu bionic-cran40/ InRelease\n",
            "Ign:3 https://developer.download.nvidia.com/compute/cuda/repos/ubuntu1804/x86_64  InRelease\n",
            "Ign:4 https://developer.download.nvidia.com/compute/machine-learning/repos/ubuntu1804/x86_64  InRelease\n",
            "Hit:5 https://developer.download.nvidia.com/compute/cuda/repos/ubuntu1804/x86_64  Release\n",
            "Hit:6 https://developer.download.nvidia.com/compute/machine-learning/repos/ubuntu1804/x86_64  Release\n",
            "Hit:7 http://archive.ubuntu.com/ubuntu bionic InRelease\n",
            "Hit:8 http://archive.ubuntu.com/ubuntu bionic-updates InRelease\n",
            "Hit:9 http://ppa.launchpad.net/c2d4u.team/c2d4u4.0+/ubuntu bionic InRelease\n",
            "Hit:10 http://archive.ubuntu.com/ubuntu bionic-backports InRelease\n",
            "Hit:11 http://ppa.launchpad.net/cran/libgit2/ubuntu bionic InRelease\n",
            "Hit:12 http://ppa.launchpad.net/deadsnakes/ppa/ubuntu bionic InRelease\n",
            "Hit:14 http://ppa.launchpad.net/graphics-drivers/ppa/ubuntu bionic InRelease\n",
            "Reading package lists... Done\n",
            "Reading package lists... Done\n",
            "Building dependency tree       \n",
            "Reading state information... Done\n",
            "xvfb is already the newest version (2:1.19.6-1ubuntu4.9).\n",
            "The following package was automatically installed and is no longer required:\n",
            "  libnvidia-common-460\n",
            "Use 'apt autoremove' to remove it.\n",
            "0 upgraded, 0 newly installed, 0 to remove and 62 not upgraded.\n"
          ],
          "name": "stdout"
        }
      ]
    },
    {
      "cell_type": "code",
      "metadata": {
        "id": "siA43APmVW61"
      },
      "source": [
        "import random\n",
        "import copy\n",
        "import matplotlib.pyplot as plt\n",
        "from IPython import display as ipythondisplay\n",
        "\n",
        "import gym\n",
        "from gym import logger as gymlogger\n",
        "from gym.wrappers import Monitor\n",
        "import numpy as np\n",
        "import torch"
      ],
      "execution_count": null,
      "outputs": []
    },
    {
      "cell_type": "markdown",
      "metadata": {
        "id": "S9dd2hoPteSc"
      },
      "source": [
        "### Creating Gym Environment"
      ]
    },
    {
      "cell_type": "code",
      "metadata": {
        "colab": {
          "base_uri": "https://localhost:8080/"
        },
        "id": "9Zne8QLhVXTh",
        "outputId": "30bf667d-ee9f-49b3-bfc5-00a867a843bd"
      },
      "source": [
        "env_name = 'CartPole-v1'\n",
        "env = gym.make(env_name) # create the gym environment\n",
        "print(f\"Action space {env.action_space} \\nObservation space {env.observation_space}\")"
      ],
      "execution_count": null,
      "outputs": [
        {
          "output_type": "stream",
          "text": [
            "Action space Discrete(2) \n",
            "Observation space Box(-3.4028234663852886e+38, 3.4028234663852886e+38, (4,), float32)\n"
          ],
          "name": "stdout"
        }
      ]
    },
    {
      "cell_type": "code",
      "metadata": {
        "id": "DXNVw7_pVXee",
        "colab": {
          "base_uri": "https://localhost:8080/"
        },
        "outputId": "bf5e20d7-ee66-4797-e5e3-d471fe81ca8f"
      },
      "source": [
        "env_name = 'CartPole-v1'\n",
        "env = gym.make(env_name)\n",
        "\n",
        "env.reset()\n",
        "done = False\n",
        "while not done:\n",
        "    action = env.action_space.sample() # put agent here\n",
        "    obs, reward, done, info = env.step(action)\n",
        "    print(f\"obs{np.round(obs, 2)} reward {reward} action {action} done {done} info {info}\")"
      ],
      "execution_count": null,
      "outputs": [
        {
          "output_type": "stream",
          "text": [
            "obs[-0.03 -0.23 -0.01  0.26] reward 1.0 action 0 done False info {}\n",
            "obs[-0.03 -0.43 -0.01  0.55] reward 1.0 action 0 done False info {}\n",
            "obs[-0.04 -0.23  0.    0.26] reward 1.0 action 1 done False info {}\n",
            "obs[-0.05 -0.04  0.01 -0.04] reward 1.0 action 1 done False info {}\n",
            "obs[-0.05 -0.23  0.01  0.26] reward 1.0 action 0 done False info {}\n",
            "obs[-0.05 -0.43  0.01  0.56] reward 1.0 action 0 done False info {}\n",
            "obs[-0.06 -0.23  0.02  0.27] reward 1.0 action 1 done False info {}\n",
            "obs[-0.07 -0.43  0.03  0.57] reward 1.0 action 0 done False info {}\n",
            "obs[-0.07 -0.24  0.04  0.28] reward 1.0 action 1 done False info {}\n",
            "obs[-0.08 -0.04  0.05  0.  ] reward 1.0 action 1 done False info {}\n",
            "obs[-0.08 -0.24  0.05  0.31] reward 1.0 action 0 done False info {}\n",
            "obs[-0.08 -0.43  0.05  0.62] reward 1.0 action 0 done False info {}\n",
            "obs[-0.09 -0.24  0.06  0.34] reward 1.0 action 1 done False info {}\n",
            "obs[-0.1  -0.04  0.07  0.07] reward 1.0 action 1 done False info {}\n",
            "obs[-0.1   0.15  0.07 -0.2 ] reward 1.0 action 1 done False info {}\n",
            "obs[-0.1   0.34  0.07 -0.47] reward 1.0 action 1 done False info {}\n",
            "obs[-0.09  0.15  0.06 -0.15] reward 1.0 action 0 done False info {}\n",
            "obs[-0.09 -0.05  0.06  0.16] reward 1.0 action 0 done False info {}\n",
            "obs[-0.09 -0.24  0.06  0.47] reward 1.0 action 0 done False info {}\n",
            "obs[-0.09 -0.44  0.07  0.78] reward 1.0 action 0 done False info {}\n",
            "obs[-0.1  -0.64  0.08  1.09] reward 1.0 action 0 done False info {}\n",
            "obs[-0.11 -0.44  0.11  0.83] reward 1.0 action 1 done False info {}\n",
            "obs[-0.12 -0.25  0.12  0.57] reward 1.0 action 1 done False info {}\n",
            "obs[-0.13 -0.05  0.13  0.32] reward 1.0 action 1 done False info {}\n",
            "obs[-0.13  0.14  0.14  0.07] reward 1.0 action 1 done False info {}\n",
            "obs[-0.12 -0.06  0.14  0.4 ] reward 1.0 action 0 done False info {}\n",
            "obs[-0.13 -0.26  0.15  0.74] reward 1.0 action 0 done False info {}\n",
            "obs[-0.13 -0.06  0.17  0.5 ] reward 1.0 action 1 done False info {}\n",
            "obs[-0.13 -0.26  0.18  0.84] reward 1.0 action 0 done False info {}\n",
            "obs[-0.14 -0.46  0.19  1.18] reward 1.0 action 0 done False info {}\n",
            "obs[-0.15 -0.26  0.22  0.95] reward 1.0 action 1 done True info {}\n"
          ],
          "name": "stdout"
        }
      ]
    },
    {
      "cell_type": "markdown",
      "metadata": {
        "id": "wFzi2PKHvC-B"
      },
      "source": [
        "### Defining our Agent"
      ]
    },
    {
      "cell_type": "code",
      "metadata": {
        "id": "OpANAhGth-vZ"
      },
      "source": [
        "class Agent:\n",
        "    def __init__(self, num_input, num_output):\n",
        "        self.num_input = num_input \n",
        "        self.num_output = num_output\n",
        "        self.num_genes = num_input * num_output + num_output\n",
        "        self.weights = None\n",
        "        self.bias = None\n",
        "\n",
        "    def set_genes(self, gene):\n",
        "        weight_idxs = self.num_input * self.num_output\n",
        "        bias_idxs = self.num_input * self.num_output + self.num_output\n",
        "        w = gene[0 : weight_idxs].reshape(self.num_output, self.num_input)   \n",
        "        b = gene[weight_idxs: bias_idxs].reshape(self.num_output,)\n",
        "        self.weights = torch.from_numpy(w)\n",
        "        self.bias = torch.from_numpy(b)\n",
        "\n",
        "    def forward(self, x):\n",
        "        x = torch.from_numpy(x).unsqueeze(0)\n",
        "        return torch.mm(x, self.weights.T) + self.bias\n",
        "\n",
        "    def get_action(self, x):\n",
        "        if self.forward(x) > 0:\n",
        "            return 1\n",
        "        else:\n",
        "            return 0"
      ],
      "execution_count": null,
      "outputs": []
    },
    {
      "cell_type": "markdown",
      "metadata": {
        "id": "RKvMP2JWimWa"
      },
      "source": [
        "### Run Episode"
      ]
    },
    {
      "cell_type": "code",
      "metadata": {
        "id": "I9gngoRlijqO"
      },
      "source": [
        "def run_episode(env, agent):\n",
        "    param = []\n",
        "    x = []  \n",
        "    tot_reward = 0.0\n",
        "    obs = env.reset()\n",
        "    done = False\n",
        "    while not done:\n",
        "        action = agent.get_action(obs)\n",
        "        obs, reward, done, info = env.step(action)\n",
        "        tot_reward = tot_reward + reward\n",
        "        \n",
        "    return tot_reward "
      ],
      "execution_count": null,
      "outputs": []
    },
    {
      "cell_type": "code",
      "metadata": {
        "id": "3EjUrBcAi1PM"
      },
      "source": [
        "#print(f\"obs{np.round(obs, 2)} reward {reward} action {action} done {done} info {info}\")"
      ],
      "execution_count": null,
      "outputs": []
    },
    {
      "cell_type": "markdown",
      "metadata": {
        "id": "4OfPa8Usvwdu"
      },
      "source": [
        "### Fitness Function"
      ]
    },
    {
      "cell_type": "code",
      "metadata": {
        "id": "l56EfIbhiEsM"
      },
      "source": [
        "def fitness_f(env, agent, gene_pop):\n",
        "    # Get fitness for each gene\n",
        "    pop_size = gene_pop.shape[0]\n",
        "    pop_fitness = np.zeros(pop_size)\n",
        "    for i, gene in enumerate(gene_pop):\n",
        "        agent.set_genes(gene)\n",
        "        pop_fitness[i] = run_episode(env, agent)\n",
        "    return pop_fitness"
      ],
      "execution_count": null,
      "outputs": []
    },
    {
      "cell_type": "markdown",
      "metadata": {
        "id": "TtVS_8u2vzC5"
      },
      "source": [
        "### Mutation Function"
      ]
    },
    {
      "cell_type": "code",
      "metadata": {
        "id": "KUygMkpJiGkJ"
      },
      "source": [
        "def mutation_f(gene_pop, mean=0, std=0.1):\n",
        "    for i, gene in enumerate(gene_pop):\n",
        "        gene_pop[i] = gene_pop[i] + np.random.normal(mean, std, size=gene.shape)\n",
        "    # constraint\n",
        "    gene_pop[gene_pop > 4] = 4\n",
        "    gene_pop[gene_pop < -4] = -4\n",
        "\n",
        "    return gene_pop"
      ],
      "execution_count": null,
      "outputs": []
    },
    {
      "cell_type": "markdown",
      "metadata": {
        "id": "eiY1x-TQBrx0"
      },
      "source": [
        "# Parameters and Variables"
      ]
    },
    {
      "cell_type": "code",
      "metadata": {
        "id": "OJ7xl60KI6kK"
      },
      "source": [
        "# Parameters\n",
        "epochs, pop_size, mutation_std = 1001, 50, 0.01\n",
        "num_obs, num_actions = 4, 1\n",
        "\n",
        "# Create our agent\n",
        "agent = Agent(num_obs, num_actions)\n",
        "\n",
        "# Create our gene population\n",
        "gene_pop = np.random.normal(0, 0.1, (pop_size, agent.num_genes))\n",
        "\n",
        "# Get init fitness of the population\n",
        "fitness = fitness_f(env, agent, gene_pop)\n",
        "\n",
        "prev_fitness = fitness\n",
        "prev_gene_pop = gene_pop"
      ],
      "execution_count": null,
      "outputs": []
    },
    {
      "cell_type": "markdown",
      "metadata": {
        "id": "08x9V4Xj3sMi"
      },
      "source": [
        "# Best Gene Function"
      ]
    },
    {
      "cell_type": "code",
      "metadata": {
        "id": "5ZNtg7D8iWTS"
      },
      "source": [
        "def get_best_gene(gene_pop, fitness):\n",
        "    i = np.argmax(fitness)\n",
        "    return gene_pop[i]"
      ],
      "execution_count": null,
      "outputs": []
    },
    {
      "cell_type": "code",
      "metadata": {
        "id": "5Se0-3KKeXwi"
      },
      "source": [
        "def get_worst_gene(gene_pop,fitness):\n",
        "  j = np.argmin(fitness)\n",
        "  return gene_pop[j]"
      ],
      "execution_count": null,
      "outputs": []
    },
    {
      "cell_type": "code",
      "metadata": {
        "id": "Y_kQSLS6iX3z"
      },
      "source": [
        "# Visualise our agent\n",
        "#add random individual\n",
        "#gather data in one while loop\n",
        "best_gene = get_best_gene(gene_pop, fitness)\n",
        "agent.set_genes(best_gene)\n",
        "\n",
        "worst_gene = get_worst_gene(gene_pop,fitness)\n",
        "agent.set_genes(worst_gene)\n"
      ],
      "execution_count": null,
      "outputs": []
    },
    {
      "cell_type": "markdown",
      "metadata": {
        "id": "Unjcd_NFrI4s"
      },
      "source": [
        "# Microbial GA\n",
        "GA evolves controller(controller represented as neural network)"
      ]
    },
    {
      "cell_type": "code",
      "metadata": {
        "id": "39yZmsD5iRVJ"
      },
      "source": [
        "import numpy as np \n",
        "import copy\n",
        "from copy import deepcopy\n",
        "import random\n",
        "import matplotlib.pyplot as plt\n",
        "\n",
        "x = []\n",
        "y_best = []\n",
        "y_mean = []\n",
        "y_worst = [] \n",
        "\n",
        "\n",
        "for epoch in range(epochs):\n",
        "\n",
        "  rand_ind = random.sample(range(0, len(gene_pop)), 2)\n",
        "\n",
        "  if fitness[rand_ind[0]] > fitness[rand_ind[1]]:\n",
        "     gene_pop[rand_ind[1]] = mutation_f(copy.deepcopy(gene_pop[rand_ind[0]]))\n",
        "     agent.set_genes(gene_pop[rand_ind[1]])\n",
        "     fitness[rand_ind[1]] = run_episode(env, agent)\n",
        "\n",
        "  else:  \n",
        "    gene_pop[rand_ind[0]] = mutation_f(copy.deepcopy(gene_pop[rand_ind[1]]))\n",
        "    agent.set_genes(gene_pop[rand_ind[0]])\n",
        "    fitness[rand_ind[0]]= run_episode(env, agent)  \n",
        "\n",
        "  if epoch % 100 == 0:\n",
        "    print(f\"Mean fitness of population {fitness.mean()}\")\n",
        "    print(f\"Max fitness of population {fitness.max()}\")\n",
        "    print(fitness)\n",
        "\n",
        "  #Best Controller\n",
        "  if epoch==0:\n",
        "    print(best_gene)\n",
        "    print(f\"The best controller after 0 epochs is: {best_gene}\")\n",
        "   \n",
        "  elif epoch==500:\n",
        "    print(best_gene)\n",
        "    print(f\"The best controller after 500 epochs is: {best_gene}\")\n",
        "    \n",
        "  elif epoch==1000:\n",
        "    print(best_gene)\n",
        "    print(f\"The best controller after 1000 epochs is: {best_gene}\")\n",
        "\n",
        "\n",
        "  y_best.append(fitness.max())\n",
        "  y_worst.append(fitness.min())\n",
        "  y_mean.append(fitness.mean())\n",
        "  x.append(epoch)   \n",
        "\n",
        "plt.plot(x,y_best,label='best')\n",
        "plt.plot(x,y_mean,label='mean')\n",
        "plt.plot(x,y_worst,label='worst')\n",
        "\n",
        "print(f\"The greatest total fitness over {epochs} epochs is: {fitness.max()}\")\n",
        "#print(f\"The best total benefit of the population {y_best}\")\n",
        "#print(f\"The mean total benefit of the population{y_mean}\")\n",
        "#print(f\"The worst total benefit of the population {y_worst}\")\n",
        "#print(fitness)\n",
        "plt.ylim(0,1000)\n",
        "plt.xlim(0,1000)\n",
        "plt.xlabel(\"Epochs\")\n",
        "plt.ylabel(\"Fitness\")\n",
        "plt.legend()\n",
        "plt.show()\n",
        "\n",
        "\n"
      ],
      "execution_count": null,
      "outputs": []
    },
    {
      "cell_type": "code",
      "metadata": {
        "id": "0vVbi7fw3VMy"
      },
      "source": [
        "#Running GA in Open AI over 10 trials\n",
        "\n",
        "trials = 10\n",
        "trial_fitness = []\n",
        "\n",
        "for trial in range(trials):\n",
        "\n",
        "  gene_pop = np.random.normal(0, 0.1, (pop_size, agent.num_genes))\n",
        "  fitness = fitness_f(env, agent, gene_pop)\n",
        "\n",
        "  x = []\n",
        "  y_best = []\n",
        "\n",
        "\n",
        "  for epoch in range(epochs):\n",
        "\n",
        "    rand_ind = random.sample(range(0, len(gene_pop)), 2)\n",
        "\n",
        "    if fitness[rand_ind[0]] > fitness[rand_ind[1]]:\n",
        "      gene_pop[rand_ind[1]] = mutation_f(copy.deepcopy(gene_pop[rand_ind[0]]))\n",
        "      agent.set_genes(gene_pop[rand_ind[1]])\n",
        "      fitness[rand_ind[1]] = run_episode(env, agent)\n",
        "\n",
        "    else:  \n",
        "      gene_pop[rand_ind[0]] = mutation_f(copy.deepcopy(gene_pop[rand_ind[1]]))\n",
        "      agent.set_genes(gene_pop[rand_ind[0]])\n",
        "      fitness[rand_ind[0]]= run_episode(env, agent)  \n",
        "\n",
        "\n",
        "     #Best Controller\n",
        "    #if epoch==0:\n",
        "      #print(best_gene)\n",
        "      #print(f\"The best controller after 0 epochs is: {best_gene}\")\n",
        "   \n",
        "    #elif epoch==500:\n",
        "      #print(best_gene)\n",
        "      #print(f\"The best controller after 500 epochs is: {best_gene}\")\n",
        "    \n",
        "    #elif epoch==1000:\n",
        "      #print(best_gene)\n",
        "      #print(f\"The best controller after 1000 epochs is: {best_gene}\")\n",
        "\n",
        "    y_best.append(fitness.max())\n",
        "    trial_fitness.append(y_best)\n",
        "    x.append(epoch)   \n",
        "  plt.plot(x,y_best)\n",
        "\n",
        "\n",
        "best_average = np.average(trial_fitness)\n",
        "print(f\"The average greatest total fitness over {trials} trials is: {best_average}\")\n",
        "\n",
        "std_average = np.std(trial_fitness)\n",
        "print(f\"The standard deviation of the average total fitness {trials} trials is: {std_average}\")\n",
        "\n",
        "print(f\"The greatest total fitness over {epochs} epochs is: {fitness.max()}\")\n",
        "#print(f\"The best total benefit of the population {y_best}\")\n",
        "#print(f\"The mean total benefit of the population{y_mean}\")\n",
        "#print(f\"The worst total benefit of the population {y_worst}\")\n",
        "print(fitness)\n",
        "plt.ylim(0,800)\n",
        "plt.xlim(0,1000)\n",
        "plt.xlabel(\"Epochs\")\n",
        "plt.ylabel(\"Fitness\")\n",
        "plt.legend(('Trial 1', 'Trial 2', 'Trial 3', 'Trial 4', 'Trial 5', 'Trial 6', 'Trial 7', 'Trial 8', 'Trial 9', 'Trial 10'),bbox_to_anchor=(1.05, 1), loc='upper left', borderaxespad=0.)\n",
        "plt.show()   "
      ],
      "execution_count": null,
      "outputs": []
    },
    {
      "cell_type": "markdown",
      "metadata": {
        "id": "D3JCAVrgiYtf"
      },
      "source": [
        "# Visualising the agent"
      ]
    },
    {
      "cell_type": "code",
      "metadata": {
        "id": "gNJ4HnGxWUeC",
        "colab": {
          "base_uri": "https://localhost:8080/",
          "height": 297
        },
        "outputId": "0464069e-555a-4c3a-a76f-3f2d8c451937"
      },
      "source": [
        "def visual_episode(env, agent=None):\n",
        "    from pyvirtualdisplay import Display\n",
        "    display = Display(visible=0, size=(400, 300))\n",
        "    display.start()\n",
        "    prev_screen = env.render(mode='rgb_array')\n",
        "    plt.imshow(prev_screen)\n",
        "\n",
        "    tot_reward = 0.0\n",
        "    obs = env.reset()\n",
        "    done = False\n",
        "    curr_t = 0\n",
        "    while not done:\n",
        "        if agent is not None:\n",
        "            action = agent.get_action(obs)\n",
        "        else:\n",
        "            action = env.action_space.sample()\n",
        "        obs, reward, done, info = env.step(action)\n",
        "        screen = env.render(mode='rgb_array')\n",
        "        tot_reward = tot_reward + reward\n",
        "\n",
        "        plt.imshow(screen)\n",
        "        plt.title(curr_t)\n",
        "        ipythondisplay.clear_output(wait=True)\n",
        "        ipythondisplay.display(plt.gcf())\n",
        "        curr_t = curr_t + 1\n",
        "\n",
        "    ipythondisplay.clear_output(wait=True)\n",
        "    env.close()\n",
        "    return tot_reward\n",
        "\n",
        "visual_episode(env)"
      ],
      "execution_count": null,
      "outputs": [
        {
          "output_type": "execute_result",
          "data": {
            "text/plain": [
              "41.0"
            ]
          },
          "metadata": {
            "tags": []
          },
          "execution_count": 15
        },
        {
          "output_type": "display_data",
          "data": {
            "image/png": "[encoded data removed]",
            "text/plain": [
              "<Figure size 432x288 with 1 Axes>"
            ]
          },
          "metadata": {
            "tags": [],
            "needs_background": "light"
          }
        }
      ]
    },
    {
      "cell_type": "code",
      "metadata": {
        "colab": {
          "base_uri": "https://localhost:8080/",
          "height": 297
        },
        "id": "xiCEHTCAB5Zi",
        "outputId": "9a11444a-105a-4e91-c880-d7c859f812cf"
      },
      "source": [
        "visual_episode(env, agent)"
      ],
      "execution_count": null,
      "outputs": [
        {
          "output_type": "execute_result",
          "data": {
            "text/plain": [
              "500.0"
            ]
          },
          "metadata": {
            "tags": []
          },
          "execution_count": 21
        },
        {
          "output_type": "display_data",
          "data": {
            "image/png": "[encoded data removed]",
            "text/plain": [
              "<Figure size 432x288 with 1 Axes>"
            ]
          },
          "metadata": {
            "tags": [],
            "needs_background": "light"
          }
        }
      ]
    },
    {
      "cell_type": "markdown",
      "metadata": {
        "id": "-uUvDmCUshua"
      },
      "source": [
        "### Running Agent - Running episode"
      ]
    },
    {
      "cell_type": "code",
      "metadata": {
        "id": "riZXePQJHXnf"
      },
      "source": [
        "position = []\n",
        "velocity = []\n",
        "angle = []\n",
        "rotation = []\n",
        "x = []\n",
        "curr_t = 0\n",
        "tot_reward = 0.0\n",
        "obs = env.reset()\n",
        "agent.set_genes(best_gene)\n",
        "#agent.set_genes(worst_gene)\n",
        "done = False\n",
        "while not done:\n",
        "    action = agent.get_action(obs)\n",
        "    obs, reward, done, info = env.step(action)\n",
        "        \n",
        "    tot_reward = tot_reward + reward\n",
        "    curr_t = curr_t + 1\n",
        "\n",
        "    #Appending obs values\n",
        "    position.append(obs[0])\n",
        "    velocity.append(obs[1])\n",
        "    angle.append(obs[2])\n",
        "    rotation.append(obs[3])\n",
        "    x.append(curr_t)  "
      ],
      "execution_count": null,
      "outputs": []
    },
    {
      "cell_type": "code",
      "metadata": {
        "id": "E3qkSUQJxo6v",
        "colab": {
          "base_uri": "https://localhost:8080/",
          "height": 295
        },
        "outputId": "3ee29dea-2af8-49b3-ce0b-981bb824e01c"
      },
      "source": [
        "#print(obs[0])\n",
        "plt.plot(x,position,label = 'cart position')\n",
        "plt.ylim(-5,5)\n",
        "plt.xlim(0,500)\n",
        "plt.xlabel(\"Time in seconds\")\n",
        "plt.ylabel(\"Position of Cart\")       "
      ],
      "execution_count": null,
      "outputs": [
        {
          "output_type": "execute_result",
          "data": {
            "text/plain": [
              "Text(0, 0.5, 'Position of Cart')"
            ]
          },
          "metadata": {
            "tags": []
          },
          "execution_count": 17
        },
        {
          "output_type": "display_data",
          "data": {
            "image/png": "[encoded data removed]",
            "text/plain": [
              "<Figure size 432x288 with 1 Axes>"
            ]
          },
          "metadata": {
            "tags": [],
            "needs_background": "light"
          }
        }
      ]
    },
    {
      "cell_type": "code",
      "metadata": {
        "id": "8bf6I9s_iftW",
        "colab": {
          "base_uri": "https://localhost:8080/",
          "height": 300
        },
        "outputId": "c76a1fb1-7bc9-4736-b6f1-ea5057f13bc3"
      },
      "source": [
        "#print(obs[1])\n",
        "plt.plot(x,velocity,label = 'velocity',color ='green')\n",
        "plt.ylim(-1,1)\n",
        "plt.xlim(0,500)\n",
        "plt.xlabel(\"Time in seconds\")\n",
        "plt.ylabel(\"Velocity of Cart\")   "
      ],
      "execution_count": null,
      "outputs": [
        {
          "output_type": "execute_result",
          "data": {
            "text/plain": [
              "Text(0, 0.5, 'Velocity of Cart')"
            ]
          },
          "metadata": {
            "tags": []
          },
          "execution_count": 18
        },
        {
          "output_type": "display_data",
          "data": {
            "image/png": "[encoded data removed]",
            "text/plain": [
              "<Figure size 432x288 with 1 Axes>"
            ]
          },
          "metadata": {
            "tags": [],
            "needs_background": "light"
          }
        }
      ]
    },
    {
      "cell_type": "code",
      "metadata": {
        "id": "G-ZfVdBNikhR",
        "colab": {
          "base_uri": "https://localhost:8080/",
          "height": 300
        },
        "outputId": "100c698f-0e30-437d-d6e4-f980ece01cb0"
      },
      "source": [
        "plt.plot(x,angle,label = 'angle',color='orange')\n",
        "plt.ylim(-1,1)\n",
        "plt.xlim(0,500)\n",
        "plt.xlabel(\"Time in seconds\")\n",
        "plt.ylabel(\"Angle of Pole\")  "
      ],
      "execution_count": null,
      "outputs": [
        {
          "output_type": "execute_result",
          "data": {
            "text/plain": [
              "Text(0, 0.5, 'Angle of Pole')"
            ]
          },
          "metadata": {
            "tags": []
          },
          "execution_count": 19
        },
        {
          "output_type": "display_data",
          "data": {
            "image/png": "[encoded data removed]",
            "text/plain": [
              "<Figure size 432x288 with 1 Axes>"
            ]
          },
          "metadata": {
            "tags": [],
            "needs_background": "light"
          }
        }
      ]
    },
    {
      "cell_type": "code",
      "metadata": {
        "id": "1OL7LAvZf9V0",
        "colab": {
          "base_uri": "https://localhost:8080/",
          "height": 300
        },
        "outputId": "372282e5-904c-4e97-ba4a-01d6c7c3f9f3"
      },
      "source": [
        "#print(obs[3])\n",
        "plt.plot(x,rotation,label = 'rotation rate',color='red')\n",
        "plt.ylim(-1,1)\n",
        "plt.xlim(0,500)\n",
        "plt.xlabel(\"Time\")\n",
        "plt.ylabel(\"Rotation Rate of Pole\")  "
      ],
      "execution_count": null,
      "outputs": [
        {
          "output_type": "execute_result",
          "data": {
            "text/plain": [
              "Text(0, 0.5, 'Rotation Rate of Pole')"
            ]
          },
          "metadata": {
            "tags": []
          },
          "execution_count": 20
        },
        {
          "output_type": "display_data",
          "data": {
            "image/png": "[encoded data removed]",
            "text/plain": [
              "<Figure size 432x288 with 1 Axes>"
            ]
          },
          "metadata": {
            "tags": [],
            "needs_background": "light"
          }
        }
      ]
    },
    {
      "cell_type": "markdown",
      "metadata": {
        "id": "cWiI_7aKcHLp"
      },
      "source": [
        "Accuracy of Pole and Position"
      ]
    },
    {
      "cell_type": "markdown",
      "metadata": {
        "id": "bX5OSHkPHJk_"
      },
      "source": [
        "### Extra Code\n",
        "For help and testing "
      ]
    },
    {
      "cell_type": "code",
      "metadata": {
        "id": "H-3WgICwiJ-Z"
      },
      "source": [
        "def select_genes(prev_gene_pop, gene_pop, prev_fitness, fitness):\n",
        "    new_gene_pop = np.zeros_like(gene_pop)\n",
        "    for i, gene in enumerate(gene_pop): \n",
        "        if fitness[i] >= prev_fitness[i]: \n",
        "            new_gene_pop[i] = gene_pop[i]\n",
        "        else:\n",
        "            new_gene_pop[i] = prev_gene_pop[i]\n",
        "\n",
        "    return new_gene_pop"
      ],
      "execution_count": null,
      "outputs": []
    },
    {
      "cell_type": "code",
      "metadata": {
        "id": "47Qx4_uPiIQc"
      },
      "source": [
        "def mutate(gene_pop,rate=0, std=0.1):\n",
        "    for i,gene in enumerate(gen_pop):\n",
        "      gene_pop[i] = gene_pop[i] + np.random.normal(mean, std, size=gene.shape)\n",
        "    return geno_pop"
      ],
      "execution_count": null,
      "outputs": []
    }
  ]
}